{
  "nbformat": 4,
  "nbformat_minor": 0,
  "metadata": {
    "colab": {
      "name": "Spektral QM9: Graph Regression.ipynb",
      "provenance": []
    },
    "kernelspec": {
      "name": "python3",
      "display_name": "Python 3"
    }
  },
  "cells": [
    {
      "cell_type": "markdown",
      "metadata": {
        "id": "8kCpH2S_uUr-"
      },
      "source": [
        "QM9 Information: https://github.com/danielegrattarola/spektral/blob/master/spektral/datasets/qm9.py  \n",
        "Graph Regression: https://github.com/danielegrattarola/spektral/blob/master/examples/graph_prediction/qm9_batch.py"
      ]
    },
    {
      "cell_type": "code",
      "metadata": {
        "id": "2L_vj2mWkrup"
      },
      "source": [
        "!pip install spektral"
      ],
      "execution_count": null,
      "outputs": []
    },
    {
      "cell_type": "code",
      "metadata": {
        "id": "S0LRGnzckx7c"
      },
      "source": [
        "import numpy as np\n",
        "from sklearn.model_selection import train_test_split\n",
        "from tensorflow.keras.layers import Input, Dense\n",
        "from tensorflow.keras.models import Model\n",
        "from tensorflow.keras.optimizers import Adam\n",
        "\n",
        "from spektral.datasets import qm9\n",
        "from spektral.layers import EdgeConditionedConv, GlobalSumPool\n",
        "from spektral.utils import label_to_one_hot\n"
      ],
      "execution_count": null,
      "outputs": []
    },
    {
      "cell_type": "code",
      "metadata": {
        "colab": {
          "base_uri": "https://localhost:8080/"
        },
        "id": "3Mxf7BwDk46e",
        "outputId": "ae485383-b654-4290-a752-cbfb2371fdcf"
      },
      "source": [
        "################################################################################\n",
        "# PARAMETERS\n",
        "################################################################################\n",
        "learning_rate = 1e-3  # Learning rate\n",
        "epochs = 10           # Number of training epochs\n",
        "batch_size = 32           # Batch size\n",
        "\n",
        "################################################################################\n",
        "# LOAD DATA\n",
        "################################################################################\n",
        "A, X, E, y = qm9.load_data(return_type='numpy',\n",
        "                           nf_keys=['atomic_num', 'charge', 'coords'],\n",
        "                           ef_keys='type',\n",
        "                           self_loops=True,\n",
        "                           amount=1000)  # Set to None to train on whole dataset\n",
        "y = y[['cv']].values  # Heat capacity at 298.15K"
      ],
      "execution_count": null,
      "outputs": [
        {
          "output_type": "stream",
          "text": [
            "Loading QM9 dataset.\n",
            "Reading SDF\n"
          ],
          "name": "stdout"
        }
      ]
    },
    {
      "cell_type": "code",
      "metadata": {
        "colab": {
          "base_uri": "https://localhost:8080/"
        },
        "id": "bvZ_pivCk7t9",
        "outputId": "10b52fcf-1d69-4018-b54d-db4bbd6dcbe0"
      },
      "source": [
        "print(A.shape)\n",
        "print(X.shape)\n",
        "print(E.shape)\n",
        "print(y.shape)"
      ],
      "execution_count": null,
      "outputs": [
        {
          "output_type": "stream",
          "text": [
            "(1000, 8, 8)\n",
            "(1000, 8, 5)\n",
            "(1000, 8, 8, 1)\n",
            "(1000, 1)\n"
          ],
          "name": "stdout"
        }
      ]
    },
    {
      "cell_type": "code",
      "metadata": {
        "colab": {
          "base_uri": "https://localhost:8080/"
        },
        "id": "17QFBdSTlRxo",
        "outputId": "a642810b-c9d0-453d-db95-1150995acb06"
      },
      "source": [
        "X[5]"
      ],
      "execution_count": null,
      "outputs": [
        {
          "output_type": "execute_result",
          "data": {
            "text/plain": [
              "array([[ 6.0000e+00,  0.0000e+00, -1.4000e-02,  1.1802e+00,  7.8000e-03],\n",
              "       [ 8.0000e+00,  0.0000e+00,  2.3000e-03, -1.9700e-02,  2.2000e-03],\n",
              "       [ 0.0000e+00,  0.0000e+00,  0.0000e+00,  0.0000e+00,  0.0000e+00],\n",
              "       [ 0.0000e+00,  0.0000e+00,  0.0000e+00,  0.0000e+00,  0.0000e+00],\n",
              "       [ 0.0000e+00,  0.0000e+00,  0.0000e+00,  0.0000e+00,  0.0000e+00],\n",
              "       [ 0.0000e+00,  0.0000e+00,  0.0000e+00,  0.0000e+00,  0.0000e+00],\n",
              "       [ 0.0000e+00,  0.0000e+00,  0.0000e+00,  0.0000e+00,  0.0000e+00],\n",
              "       [ 0.0000e+00,  0.0000e+00,  0.0000e+00,  0.0000e+00,  0.0000e+00]])"
            ]
          },
          "metadata": {
            "tags": []
          },
          "execution_count": 5
        }
      ]
    },
    {
      "cell_type": "code",
      "metadata": {
        "id": "x5TEQWAvlAFO"
      },
      "source": [
        "# Preprocessing\n",
        "X_uniq = np.unique(X)\n",
        "X_uniq = X_uniq[X_uniq != 0]\n",
        "E_uniq = np.unique(E)\n",
        "E_uniq = E_uniq[E_uniq != 0]\n",
        "\n",
        "# X = label_to_one_hot(X, X_uniq)\n",
        "E = label_to_one_hot(E, E_uniq)\n",
        "\n",
        "# Parameters\n",
        "N = X.shape[-2]       # Number of nodes in the graphs\n",
        "F = X[0].shape[-1]    # Dimension of node features\n",
        "S = E[0].shape[-1]    # Dimension of edge features\n",
        "n_out = y.shape[-1]   # Dimension of the target\n",
        "\n",
        "# Train/test split\n",
        "A_train, A_test, \\\n",
        "X_train, X_test, \\\n",
        "E_train, E_test, \\\n",
        "y_train, y_test = train_test_split(A, X, E, y, test_size=0.1, random_state=0)"
      ],
      "execution_count": null,
      "outputs": []
    },
    {
      "cell_type": "code",
      "metadata": {
        "colab": {
          "base_uri": "https://localhost:8080/"
        },
        "id": "BACybKboln-B",
        "outputId": "6dfa6378-b935-481b-aeda-2f6cfec4efe5"
      },
      "source": [
        "X_in = Input(shape=(N, F))\n",
        "A_in = Input(shape=(N, N))\n",
        "E_in = Input(shape=(N, N, S))\n",
        "\n",
        "X_1 = EdgeConditionedConv(32, activation='relu')([X_in, A_in, E_in])\n",
        "X_2 = EdgeConditionedConv(32, activation='relu')([X_1, A_in, E_in])\n",
        "X_3 = GlobalSumPool()(X_2)\n",
        "output = Dense(n_out)(X_3)\n",
        "\n",
        "# Build model\n",
        "model = Model(inputs=[X_in, A_in, E_in], outputs=output)\n",
        "optimizer = Adam(lr=learning_rate)\n",
        "model.compile(optimizer=optimizer, loss='mse')\n",
        "model.summary()"
      ],
      "execution_count": null,
      "outputs": [
        {
          "output_type": "stream",
          "text": [
            "Model: \"functional_1\"\n",
            "__________________________________________________________________________________________________\n",
            "Layer (type)                    Output Shape         Param #     Connected to                     \n",
            "==================================================================================================\n",
            "input_1 (InputLayer)            [(None, 8, 5)]       0                                            \n",
            "__________________________________________________________________________________________________\n",
            "input_2 (InputLayer)            [(None, 8, 8)]       0                                            \n",
            "__________________________________________________________________________________________________\n",
            "input_3 (InputLayer)            [(None, 8, 8, 3)]    0                                            \n",
            "__________________________________________________________________________________________________\n",
            "edge_conditioned_conv (EdgeCond (None, 8, 32)        832         input_1[0][0]                    \n",
            "                                                                 input_2[0][0]                    \n",
            "                                                                 input_3[0][0]                    \n",
            "__________________________________________________________________________________________________\n",
            "edge_conditioned_conv_1 (EdgeCo (None, 8, 32)        5152        edge_conditioned_conv[0][0]      \n",
            "                                                                 input_2[0][0]                    \n",
            "                                                                 input_3[0][0]                    \n",
            "__________________________________________________________________________________________________\n",
            "global_sum_pool (GlobalSumPool) (None, 32)           0           edge_conditioned_conv_1[0][0]    \n",
            "__________________________________________________________________________________________________\n",
            "dense (Dense)                   (None, 1)            33          global_sum_pool[0][0]            \n",
            "==================================================================================================\n",
            "Total params: 6,017\n",
            "Trainable params: 6,017\n",
            "Non-trainable params: 0\n",
            "__________________________________________________________________________________________________\n"
          ],
          "name": "stdout"
        }
      ]
    },
    {
      "cell_type": "code",
      "metadata": {
        "colab": {
          "base_uri": "https://localhost:8080/"
        },
        "id": "FzCyjI_Rlol_",
        "outputId": "a29a74e6-1728-4e43-f076-6e23001a329a"
      },
      "source": [
        "################################################################################\n",
        "# FIT MODEL\n",
        "################################################################################\n",
        "model.fit([X_train, A_train, E_train],\n",
        "          y_train,\n",
        "          batch_size=batch_size,\n",
        "          epochs=epochs)\n"
      ],
      "execution_count": null,
      "outputs": [
        {
          "output_type": "stream",
          "text": [
            "Epoch 1/10\n",
            "29/29 [==============================] - 1s 24ms/step - loss: 38.7956\n",
            "Epoch 2/10\n",
            "29/29 [==============================] - 1s 25ms/step - loss: 14.6836\n",
            "Epoch 3/10\n",
            "29/29 [==============================] - 1s 24ms/step - loss: 11.6677\n",
            "Epoch 4/10\n",
            "29/29 [==============================] - 1s 25ms/step - loss: 9.7788\n",
            "Epoch 5/10\n",
            "29/29 [==============================] - 1s 23ms/step - loss: 8.6410\n",
            "Epoch 6/10\n",
            "29/29 [==============================] - 1s 24ms/step - loss: 7.1779\n",
            "Epoch 7/10\n",
            "29/29 [==============================] - 1s 24ms/step - loss: 6.4628\n",
            "Epoch 8/10\n",
            "29/29 [==============================] - 1s 25ms/step - loss: 6.0361\n",
            "Epoch 9/10\n",
            "29/29 [==============================] - 1s 24ms/step - loss: 5.6124\n",
            "Epoch 10/10\n",
            "29/29 [==============================] - 1s 24ms/step - loss: 5.3093\n"
          ],
          "name": "stdout"
        },
        {
          "output_type": "execute_result",
          "data": {
            "text/plain": [
              "<tensorflow.python.keras.callbacks.History at 0x7f3da6cb6fd0>"
            ]
          },
          "metadata": {
            "tags": []
          },
          "execution_count": 10
        }
      ]
    },
    {
      "cell_type": "code",
      "metadata": {
        "colab": {
          "base_uri": "https://localhost:8080/"
        },
        "id": "lFLdHKuMkWG_",
        "outputId": "564412e0-bc09-4071-e5c7-5486f7aa9d13"
      },
      "source": [
        "################################################################################\n",
        "# EVALUATE MODEL\n",
        "################################################################################\n",
        "print('Testing model')\n",
        "model_loss = model.evaluate([X_test, A_test, E_test],\n",
        "                            y_test,\n",
        "                            batch_size=batch_size)\n",
        "print('Done. Test loss: {}'.format(model_loss))"
      ],
      "execution_count": null,
      "outputs": [
        {
          "output_type": "stream",
          "text": [
            "Testing model\n",
            "4/4 [==============================] - 0s 6ms/step - loss: 4.4189\n",
            "Done. Test loss: 4.4188737869262695\n"
          ],
          "name": "stdout"
        }
      ]
    },
    {
      "cell_type": "code",
      "metadata": {
        "id": "Q1-PnYeknCNy"
      },
      "source": [
        ""
      ],
      "execution_count": null,
      "outputs": []
    }
  ]
}